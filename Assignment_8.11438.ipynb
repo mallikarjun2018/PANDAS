{
 "cells": [
  {
   "cell_type": "markdown",
   "metadata": {},
   "source": [
    "1 How-to-count-distance-to-the-previous-zero For each value, count the difference back to the previous zero (or the start of the Series, whichever is closer) create a new column 'Y' Consider a DataFrame df where there is an integer column 'X' "
   ]
  },
  {
   "cell_type": "code",
   "execution_count": 9,
   "metadata": {},
   "outputs": [
    {
     "data": {
      "text/html": [
       "<div>\n",
       "<style scoped>\n",
       "    .dataframe tbody tr th:only-of-type {\n",
       "        vertical-align: middle;\n",
       "    }\n",
       "\n",
       "    .dataframe tbody tr th {\n",
       "        vertical-align: top;\n",
       "    }\n",
       "\n",
       "    .dataframe thead th {\n",
       "        text-align: right;\n",
       "    }\n",
       "</style>\n",
       "<table border=\"1\" class=\"dataframe\">\n",
       "  <thead>\n",
       "    <tr style=\"text-align: right;\">\n",
       "      <th></th>\n",
       "      <th>X</th>\n",
       "      <th>Y</th>\n",
       "    </tr>\n",
       "  </thead>\n",
       "  <tbody>\n",
       "    <tr>\n",
       "      <th>0</th>\n",
       "      <td>7</td>\n",
       "      <td>1</td>\n",
       "    </tr>\n",
       "    <tr>\n",
       "      <th>1</th>\n",
       "      <td>2</td>\n",
       "      <td>2</td>\n",
       "    </tr>\n",
       "    <tr>\n",
       "      <th>2</th>\n",
       "      <td>0</td>\n",
       "      <td>0</td>\n",
       "    </tr>\n",
       "    <tr>\n",
       "      <th>3</th>\n",
       "      <td>3</td>\n",
       "      <td>1</td>\n",
       "    </tr>\n",
       "    <tr>\n",
       "      <th>4</th>\n",
       "      <td>4</td>\n",
       "      <td>2</td>\n",
       "    </tr>\n",
       "    <tr>\n",
       "      <th>5</th>\n",
       "      <td>2</td>\n",
       "      <td>3</td>\n",
       "    </tr>\n",
       "    <tr>\n",
       "      <th>6</th>\n",
       "      <td>5</td>\n",
       "      <td>4</td>\n",
       "    </tr>\n",
       "    <tr>\n",
       "      <th>7</th>\n",
       "      <td>0</td>\n",
       "      <td>0</td>\n",
       "    </tr>\n",
       "    <tr>\n",
       "      <th>8</th>\n",
       "      <td>3</td>\n",
       "      <td>1</td>\n",
       "    </tr>\n",
       "    <tr>\n",
       "      <th>9</th>\n",
       "      <td>4</td>\n",
       "      <td>2</td>\n",
       "    </tr>\n",
       "  </tbody>\n",
       "</table>\n",
       "</div>"
      ],
      "text/plain": [
       "   X  Y\n",
       "0  7  1\n",
       "1  2  2\n",
       "2  0  0\n",
       "3  3  1\n",
       "4  4  2\n",
       "5  2  3\n",
       "6  5  4\n",
       "7  0  0\n",
       "8  3  1\n",
       "9  4  2"
      ]
     },
     "execution_count": 9,
     "metadata": {},
     "output_type": "execute_result"
    }
   ],
   "source": [
    "#Import the Packages\n",
    "import pandas as pd\n",
    "import numpy as np\n",
    "\n",
    "#Create a Data frame with the given input.\n",
    "df = pd.DataFrame({'X': [7, 2, 0, 3, 4, 2, 5, 0, 3, 4]}) \n",
    "\n",
    "#Indices where the Zero in the array.    \n",
    "Indice_zero = np.r_[-1, (df['X'] == 0).nonzero()[0]]  \n",
    "\n",
    "# numpy array with elements \n",
    "idx = np.arange(len(df))\n",
    "\n",
    "# To find the indices into a sorted array. so that order will remaine before the indices.\n",
    "df['Y'] = idx - Indice_zero[np.searchsorted(Indice_zero - 1, idx) - 1]\n",
    "df"
   ]
  },
  {
   "cell_type": "markdown",
   "metadata": {},
   "source": [
    "2 Create a DatetimeIndex that contains each business day of 2015 and use it to index a Series of random numbers. "
   ]
  },
  {
   "cell_type": "code",
   "execution_count": 10,
   "metadata": {
    "scrolled": true
   },
   "outputs": [
    {
     "name": "stdout",
     "output_type": "stream",
     "text": [
      "2015-01-01    0.993375\n",
      "2015-01-02    0.211428\n",
      "2015-01-05    0.965703\n",
      "2015-01-06    0.334019\n",
      "2015-01-07    0.519750\n",
      "2015-01-08    0.773504\n",
      "2015-01-09    0.162429\n",
      "2015-01-12    0.765787\n",
      "2015-01-13    0.167061\n",
      "2015-01-14    0.774610\n",
      "2015-01-15    0.065302\n",
      "2015-01-16    0.348621\n",
      "2015-01-19    0.622106\n",
      "2015-01-20    0.908614\n",
      "2015-01-21    0.487243\n",
      "2015-01-22    0.173324\n",
      "2015-01-23    0.242080\n",
      "2015-01-26    0.715777\n",
      "2015-01-27    0.997669\n",
      "2015-01-28    0.473346\n",
      "2015-01-29    0.871410\n",
      "2015-01-30    0.868670\n",
      "2015-02-02    0.402252\n",
      "2015-02-03    0.554828\n",
      "2015-02-04    0.885609\n",
      "2015-02-05    0.051449\n",
      "2015-02-06    0.155937\n",
      "2015-02-09    0.278574\n",
      "2015-02-10    0.544385\n",
      "2015-02-11    0.036199\n",
      "                ...   \n",
      "2015-11-20    0.631278\n",
      "2015-11-23    0.406045\n",
      "2015-11-24    0.451112\n",
      "2015-11-25    0.435379\n",
      "2015-11-26    0.510842\n",
      "2015-11-27    0.133228\n",
      "2015-11-30    0.352738\n",
      "2015-12-01    0.226182\n",
      "2015-12-02    0.706000\n",
      "2015-12-03    0.609752\n",
      "2015-12-04    0.810085\n",
      "2015-12-07    0.059580\n",
      "2015-12-08    0.567866\n",
      "2015-12-09    0.976595\n",
      "2015-12-10    0.254486\n",
      "2015-12-11    0.073495\n",
      "2015-12-14    0.082542\n",
      "2015-12-15    0.282766\n",
      "2015-12-16    0.096696\n",
      "2015-12-17    0.788688\n",
      "2015-12-18    0.553764\n",
      "2015-12-21    0.012416\n",
      "2015-12-22    0.269311\n",
      "2015-12-23    0.999005\n",
      "2015-12-24    0.594739\n",
      "2015-12-25    0.733134\n",
      "2015-12-28    0.948848\n",
      "2015-12-29    0.539089\n",
      "2015-12-30    0.991879\n",
      "2015-12-31    0.693773\n",
      "Freq: B, Length: 261, dtype: float64\n"
     ]
    }
   ],
   "source": [
    "#Import the Packages\n",
    "import pandas as pd\n",
    "\n",
    "datetime_index = pd.date_range(start='2015-01-01', end='2015-12-31', freq='B') \n",
    "x = pd.Series(np.random.rand(len(datetime_index)), index = datetime_index)\n",
    "print(x)"
   ]
  },
  {
   "cell_type": "markdown",
   "metadata": {},
   "source": [
    "3. Find the sum of the values in s for every Wednesday."
   ]
  },
  {
   "cell_type": "code",
   "execution_count": 11,
   "metadata": {},
   "outputs": [
    {
     "name": "stdout",
     "output_type": "stream",
     "text": [
      "28.862119202167147\n"
     ]
    }
   ],
   "source": [
    "print(x[x.index.weekday == 2].sum())"
   ]
  },
  {
   "cell_type": "markdown",
   "metadata": {},
   "source": [
    "4. Average For each calendar month "
   ]
  },
  {
   "cell_type": "code",
   "execution_count": 12,
   "metadata": {},
   "outputs": [
    {
     "name": "stdout",
     "output_type": "stream",
     "text": [
      "2015-01-31    0.565538\n",
      "2015-02-28    0.487172\n",
      "2015-03-31    0.504879\n",
      "2015-04-30    0.559887\n",
      "2015-05-31    0.522871\n",
      "2015-06-30    0.440166\n",
      "2015-07-31    0.583680\n",
      "2015-08-31    0.504864\n",
      "2015-09-30    0.395847\n",
      "2015-10-31    0.548270\n",
      "2015-11-30    0.439723\n",
      "2015-12-31    0.516117\n",
      "Freq: M, dtype: float64\n"
     ]
    }
   ],
   "source": [
    "print(x.resample('M').mean())"
   ]
  },
  {
   "cell_type": "markdown",
   "metadata": {},
   "source": [
    "5. For each group of four consecutive calendar months in s, find the date on which the highest value occurred. "
   ]
  },
  {
   "cell_type": "code",
   "execution_count": 13,
   "metadata": {},
   "outputs": [
    {
     "name": "stdout",
     "output_type": "stream",
     "text": [
      "2015-01-31    0.997669\n",
      "2015-05-31    0.992141\n",
      "2015-09-30    0.979704\n",
      "2016-01-31    0.999005\n",
      "dtype: float64\n",
      "2015-04-30    0.997669\n",
      "2015-08-31    0.992141\n",
      "2015-12-31    0.999005\n",
      "2016-04-30    0.693773\n",
      "Freq: 4M, dtype: float64\n"
     ]
    }
   ],
   "source": [
    "print(x.groupby(pd.Grouper(freq='4M')).max())\n",
    "print(x.groupby(pd.Grouper(freq='4M', closed='left')).max())"
   ]
  },
  {
   "cell_type": "code",
   "execution_count": null,
   "metadata": {},
   "outputs": [],
   "source": []
  }
 ],
 "metadata": {
  "kernelspec": {
   "display_name": "Python 3",
   "language": "python",
   "name": "python3"
  },
  "language_info": {
   "codemirror_mode": {
    "name": "ipython",
    "version": 3
   },
   "file_extension": ".py",
   "mimetype": "text/x-python",
   "name": "python",
   "nbconvert_exporter": "python",
   "pygments_lexer": "ipython3",
   "version": "3.6.4"
  }
 },
 "nbformat": 4,
 "nbformat_minor": 2
}
